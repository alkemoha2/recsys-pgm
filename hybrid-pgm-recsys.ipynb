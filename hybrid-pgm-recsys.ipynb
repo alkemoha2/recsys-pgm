{
 "cells": [
  {
   "cell_type": "markdown",
   "metadata": {},
   "source": [
    "# Import Libraries"
   ]
  },
  {
   "cell_type": "code",
   "execution_count": 1,
   "metadata": {},
   "outputs": [],
   "source": [
    "import json\n",
    "import numpy as np\n",
    "import pandas as pd\n",
    "import re\n",
    "import string\n",
    "import scipy\n",
    "import time\n",
    "from nltk.stem import PorterStemmer, WordNetLemmatizer\n",
    "from nltk.corpus import stopwords \n",
    "from sklearn.feature_extraction.text import TfidfVectorizer\n",
    "from nltk.tokenize import RegexpTokenizer,LineTokenizer\n",
    "from nltk.stem import LancasterStemmer\n",
    "from sklearn.decomposition import TruncatedSVD\n",
    "from sklearn.pipeline import Pipeline\n",
    "from IPython.display import Markdown, display\n",
    "def printmd(string):\n",
    "    display(Markdown(string))\n",
    "\n",
    "from sklearn.feature_extraction.text import CountVectorizer\n",
    "from sklearn.decomposition import NMF, LatentDirichletAllocation\n",
    "import numpy as np\n",
    "import pandas as pd\n",
    "np.random.seed(1)\n",
    "\n",
    "from sklearn.feature_extraction.text import CountVectorizer\n",
    "from sklearn.decomposition import LatentDirichletAllocation\n",
    "\n",
    "%matplotlib inline\n",
    "from matplotlib import pyplot as plt\n",
    "import pickle\n",
    "from pomegranate import BayesianNetwork\n"
   ]
  },
  {
   "cell_type": "markdown",
   "metadata": {},
   "source": [
    "# Load Video Data"
   ]
  },
  {
   "cell_type": "code",
   "execution_count": 2,
   "metadata": {},
   "outputs": [
    {
     "name": "stdout",
     "output_type": "stream",
     "text": [
      "Total number of videos :  5585\n"
     ]
    }
   ],
   "source": [
    "video_df = pd.read_csv(\"./video_data.csv\")\n",
    "print(\"Total number of videos : \",len(video_df))"
   ]
  },
  {
   "cell_type": "code",
   "execution_count": 3,
   "metadata": {},
   "outputs": [
    {
     "data": {
      "text/html": [
       "<div>\n",
       "<style scoped>\n",
       "    .dataframe tbody tr th:only-of-type {\n",
       "        vertical-align: middle;\n",
       "    }\n",
       "\n",
       "    .dataframe tbody tr th {\n",
       "        vertical-align: top;\n",
       "    }\n",
       "\n",
       "    .dataframe thead th {\n",
       "        text-align: right;\n",
       "    }\n",
       "</style>\n",
       "<table border=\"1\" class=\"dataframe\">\n",
       "  <thead>\n",
       "    <tr style=\"text-align: right;\">\n",
       "      <th></th>\n",
       "      <th>video_id</th>\n",
       "      <th>category_name</th>\n",
       "      <th>short_description</th>\n",
       "      <th>story_text</th>\n",
       "      <th>title</th>\n",
       "    </tr>\n",
       "  </thead>\n",
       "  <tbody>\n",
       "    <tr>\n",
       "      <th>0</th>\n",
       "      <td>5653616771001</td>\n",
       "      <td>Entertainment News</td>\n",
       "      <td>The 34-year-old actor is not sure if he's goin...</td>\n",
       "      <td>Hack: \\tThe 34-year-old actor is not sure if h...</td>\n",
       "      <td>Adam Driver still 'undecided' on seeing 'Star ...</td>\n",
       "    </tr>\n",
       "    <tr>\n",
       "      <th>1</th>\n",
       "      <td>5631919940001</td>\n",
       "      <td>Entertainment News</td>\n",
       "      <td>The poster gives us a closer look at the actor...</td>\n",
       "      <td>The latest poster of 2.0 featuring Bollywood s...</td>\n",
       "      <td>BEWARE: Akshay Kumar's look from 2.0 is out, a...</td>\n",
       "    </tr>\n",
       "    <tr>\n",
       "      <th>2</th>\n",
       "      <td>5767901401001</td>\n",
       "      <td>India News</td>\n",
       "      <td>A massive outrage has erupted over the horrifi...</td>\n",
       "      <td>A massive outrage has erupted over the horrifi...</td>\n",
       "      <td>Kathua-Rape-Murder Case: Protesters demand CBI...</td>\n",
       "    </tr>\n",
       "    <tr>\n",
       "      <th>3</th>\n",
       "      <td>5741125480001</td>\n",
       "      <td>India News</td>\n",
       "      <td>According to forensic report, traces of alcoho...</td>\n",
       "      <td>The mystery surrounding Sridevi’s passing away...</td>\n",
       "      <td>Sridevi’s death: Here’s what Amar Singh claims...</td>\n",
       "    </tr>\n",
       "  </tbody>\n",
       "</table>\n",
       "</div>"
      ],
      "text/plain": [
       "        video_id       category_name  \\\n",
       "0  5653616771001  Entertainment News   \n",
       "1  5631919940001  Entertainment News   \n",
       "2  5767901401001          India News   \n",
       "3  5741125480001          India News   \n",
       "\n",
       "                                   short_description  \\\n",
       "0  The 34-year-old actor is not sure if he's goin...   \n",
       "1  The poster gives us a closer look at the actor...   \n",
       "2  A massive outrage has erupted over the horrifi...   \n",
       "3  According to forensic report, traces of alcoho...   \n",
       "\n",
       "                                          story_text  \\\n",
       "0  Hack: \\tThe 34-year-old actor is not sure if h...   \n",
       "1  The latest poster of 2.0 featuring Bollywood s...   \n",
       "2  A massive outrage has erupted over the horrifi...   \n",
       "3  The mystery surrounding Sridevi’s passing away...   \n",
       "\n",
       "                                               title  \n",
       "0  Adam Driver still 'undecided' on seeing 'Star ...  \n",
       "1  BEWARE: Akshay Kumar's look from 2.0 is out, a...  \n",
       "2  Kathua-Rape-Murder Case: Protesters demand CBI...  \n",
       "3  Sridevi’s death: Here’s what Amar Singh claims...  "
      ]
     },
     "execution_count": 3,
     "metadata": {},
     "output_type": "execute_result"
    }
   ],
   "source": [
    "video_df.head(4)"
   ]
  },
  {
   "cell_type": "markdown",
   "metadata": {},
   "source": [
    "# Load co occurrence matrix"
   ]
  },
  {
   "cell_type": "code",
   "execution_count": 4,
   "metadata": {},
   "outputs": [],
   "source": [
    "with open(\"./co_occurrence_matrix\",\"rb\") as fp:\n",
    "    matrix = pickle.load(fp)"
   ]
  },
  {
   "cell_type": "markdown",
   "metadata": {},
   "source": [
    "# 10 unique Genres"
   ]
  },
  {
   "cell_type": "code",
   "execution_count": 5,
   "metadata": {},
   "outputs": [
    {
     "name": "stdout",
     "output_type": "stream",
     "text": [
      "['Entertainment News' 'India News' 'Karnataka Elections 2018' 'World News'\n",
      " 'Sports News' 'Business News' 'R Bharat' 'Initiatives' 'Technology News'\n",
      " 'Lifestyle']\n",
      "10\n"
     ]
    }
   ],
   "source": [
    "print(video_df.category_name.unique())\n",
    "print(len(video_df.category_name.unique()))"
   ]
  },
  {
   "cell_type": "markdown",
   "metadata": {},
   "source": [
    "# Preprocess and clean the textual data"
   ]
  },
  {
   "cell_type": "code",
   "execution_count": 6,
   "metadata": {},
   "outputs": [],
   "source": [
    "video_df[\"description\"] = video_df[\"title\"]+\" \"+video_df[\"short_description\"]+\" \"+video_df[\"story_text\"]"
   ]
  },
  {
   "cell_type": "code",
   "execution_count": 7,
   "metadata": {},
   "outputs": [],
   "source": [
    "def clean(x):\n",
    "    temp = re.sub('http[s]?://(?:[a-zA-Z]|[0-9]|[$-_@.&+]|(?:%[0-9a-fA-F][0-9a-fA-F]))+', ' ', x)\n",
    "    temp = re.sub(\"[^a-zA-Z]\", \" \", temp)\n",
    "    temp = re.sub(' +', ' ', temp).lower()\n",
    "    return temp"
   ]
  },
  {
   "cell_type": "code",
   "execution_count": 8,
   "metadata": {},
   "outputs": [],
   "source": [
    "video_df[\"description_cleaned\"] = video_df[\"description\"].map(clean)"
   ]
  },
  {
   "cell_type": "markdown",
   "metadata": {},
   "source": [
    "# Train multiple LDA models and select with least perplexity"
   ]
  },
  {
   "cell_type": "code",
   "execution_count": 9,
   "metadata": {},
   "outputs": [
    {
     "name": "stdout",
     "output_type": "stream",
     "text": [
      "Computing perplexity for #topics: 8\n",
      "Computing perplexity for #topics: 9\n",
      "Computing perplexity for #topics: 10\n",
      "Computing perplexity for #topics: 11\n",
      "Computing perplexity for #topics: 12\n"
     ]
    }
   ],
   "source": [
    "topics = range(8, 13, 1)\n",
    "perplexities = list()\n",
    "loglikelihood = list()\n",
    "lda_list = list()\n",
    "vec = CountVectorizer(max_df=0.95, min_df=2,\n",
    "                                max_features=15000,\n",
    "                                stop_words='english')\n",
    "tf = vec.fit_transform(video_df[\"description_cleaned\"])\n",
    "\n",
    "for i in topics:\n",
    "    print('Computing perplexity for #topics: {}'.format(i))\n",
    "    lda = LatentDirichletAllocation(n_components=i, max_iter=5,\n",
    "                                learning_method='online',\n",
    "                                learning_offset=50.,\n",
    "                                random_state=0)\n",
    "    \n",
    "    lda.fit(tf)\n",
    "    perplexities.append(np.log(lda.perplexity(tf)))\n",
    "    lda_list.append(lda)"
   ]
  },
  {
   "cell_type": "markdown",
   "metadata": {},
   "source": [
    "# Perplexity Plot"
   ]
  },
  {
   "cell_type": "code",
   "execution_count": 10,
   "metadata": {},
   "outputs": [
    {
     "data": {
      "image/png": "[encoded data removed]",
      "text/plain": [
       "<Figure size 864x360 with 1 Axes>"
      ]
     },
     "metadata": {},
     "output_type": "display_data"
    }
   ],
   "source": [
    "plt.figure(figsize=(12, 5))\n",
    "plt.subplot(1, 2, 2)\n",
    "plt.plot(topics,perplexities)\n",
    "plt.xlabel('Topics')\n",
    "plt.ylabel('Perplexity')\n",
    "plt.show()"
   ]
  },
  {
   "cell_type": "markdown",
   "metadata": {},
   "source": [
    "# Select best LDA model"
   ]
  },
  {
   "cell_type": "code",
   "execution_count": 11,
   "metadata": {},
   "outputs": [],
   "source": [
    "best_lda = lda_list[np.argmin(perplexities)]"
   ]
  },
  {
   "cell_type": "code",
   "execution_count": 12,
   "metadata": {},
   "outputs": [],
   "source": [
    "def print_top_words(model, feature_names, n_top_words):\n",
    "    for topic_idx, topic in enumerate(model.components_):\n",
    "        message = \"Topic #%d: \" % topic_idx\n",
    "        message += \" \".join([feature_names[i]\n",
    "                             for i in topic.argsort()[:-n_top_words - 1:-1]])\n",
    "        print(message)\n",
    "    print()"
   ]
  },
  {
   "cell_type": "code",
   "execution_count": 13,
   "metadata": {},
   "outputs": [
    {
     "name": "stdout",
     "output_type": "stream",
     "text": [
      "\n",
      "Topics in LDA model:\n",
      "Topic #0: kapil sharma said mumbai hospital health read police irrfan kumar\n",
      "Topic #1: said india minister government modi pakistan congress prime president people\n",
      "Topic #2: film actor shared post khan said bollywood like love read\n",
      "Topic #3: india rs cricket team indian ipl match players kohli series\n",
      "Topic #4: khan salman april actor case twitter hai race tiger jodhpur\n",
      "Topic #5: sridevi kapoor wedding family dubai bollywood daughter actor actress janhvi\n",
      "Topic #6: said court republic case tv bjp police chief congress minister\n",
      "Topic #7: deepika singh ranveer padukone padmaavat patel leela khilji boy preity\n",
      "Topic #8: said world year new time gold air india indian games\n",
      "Topic #9: bhansali padmavati sena film sanjay release movie tamil leela nadu\n",
      "Topic #10: twitter facebook rajinikanth com pic award haasan kamal users singer\n",
      "\n"
     ]
    }
   ],
   "source": [
    "print(\"\\nTopics in LDA model:\")\n",
    "tf_feature_names = vec.get_feature_names()\n",
    "print_top_words(best_lda, tf_feature_names, 10)"
   ]
  },
  {
   "cell_type": "code",
   "execution_count": 14,
   "metadata": {},
   "outputs": [],
   "source": [
    "result = best_lda.transform(tf)\n",
    "a = np.argwhere(result >= 0.1)\n",
    "n = range(tf.shape[0])\n",
    "val1 = [ list(a[a[:,0]==i,1]) for i in n] \n",
    "val2 = np.argpartition(-result, 5)[:,0:5]\n",
    "val = pd.Series(list(zip(val1,val2))).map(lambda x:list(set.intersection(set(x[0]),set(x[1]))))\n",
    "video_df[\"topic_list\"] = list(val)"
   ]
  },
  {
   "cell_type": "code",
   "execution_count": 15,
   "metadata": {},
   "outputs": [
    {
     "data": {
      "text/html": [
       "<div>\n",
       "<style scoped>\n",
       "    .dataframe tbody tr th:only-of-type {\n",
       "        vertical-align: middle;\n",
       "    }\n",
       "\n",
       "    .dataframe tbody tr th {\n",
       "        vertical-align: top;\n",
       "    }\n",
       "\n",
       "    .dataframe thead th {\n",
       "        text-align: right;\n",
       "    }\n",
       "</style>\n",
       "<table border=\"1\" class=\"dataframe\">\n",
       "  <thead>\n",
       "    <tr style=\"text-align: right;\">\n",
       "      <th></th>\n",
       "      <th>video_id</th>\n",
       "      <th>category_name</th>\n",
       "      <th>short_description</th>\n",
       "      <th>story_text</th>\n",
       "      <th>title</th>\n",
       "      <th>description</th>\n",
       "      <th>description_cleaned</th>\n",
       "      <th>topic_list</th>\n",
       "    </tr>\n",
       "  </thead>\n",
       "  <tbody>\n",
       "    <tr>\n",
       "      <th>0</th>\n",
       "      <td>5653616771001</td>\n",
       "      <td>Entertainment News</td>\n",
       "      <td>The 34-year-old actor is not sure if he's goin...</td>\n",
       "      <td>Hack: \\tThe 34-year-old actor is not sure if h...</td>\n",
       "      <td>Adam Driver still 'undecided' on seeing 'Star ...</td>\n",
       "      <td>Adam Driver still 'undecided' on seeing 'Star ...</td>\n",
       "      <td>adam driver still undecided on seeing star war...</td>\n",
       "      <td>[2]</td>\n",
       "    </tr>\n",
       "    <tr>\n",
       "      <th>1</th>\n",
       "      <td>5631919940001</td>\n",
       "      <td>Entertainment News</td>\n",
       "      <td>The poster gives us a closer look at the actor...</td>\n",
       "      <td>The latest poster of 2.0 featuring Bollywood s...</td>\n",
       "      <td>BEWARE: Akshay Kumar's look from 2.0 is out, a...</td>\n",
       "      <td>BEWARE: Akshay Kumar's look from 2.0 is out, a...</td>\n",
       "      <td>beware akshay kumar s look from is out and it ...</td>\n",
       "      <td>[2]</td>\n",
       "    </tr>\n",
       "    <tr>\n",
       "      <th>2</th>\n",
       "      <td>5767901401001</td>\n",
       "      <td>India News</td>\n",
       "      <td>A massive outrage has erupted over the horrifi...</td>\n",
       "      <td>A massive outrage has erupted over the horrifi...</td>\n",
       "      <td>Kathua-Rape-Murder Case: Protesters demand CBI...</td>\n",
       "      <td>Kathua-Rape-Murder Case: Protesters demand CBI...</td>\n",
       "      <td>kathua rape murder case protesters demand cbi ...</td>\n",
       "      <td>[1, 6]</td>\n",
       "    </tr>\n",
       "    <tr>\n",
       "      <th>3</th>\n",
       "      <td>5741125480001</td>\n",
       "      <td>India News</td>\n",
       "      <td>According to forensic report, traces of alcoho...</td>\n",
       "      <td>The mystery surrounding Sridevi’s passing away...</td>\n",
       "      <td>Sridevi’s death: Here’s what Amar Singh claims...</td>\n",
       "      <td>Sridevi’s death: Here’s what Amar Singh claims...</td>\n",
       "      <td>sridevi s death here s what amar singh claims ...</td>\n",
       "      <td>[5]</td>\n",
       "    </tr>\n",
       "  </tbody>\n",
       "</table>\n",
       "</div>"
      ],
      "text/plain": [
       "        video_id       category_name  \\\n",
       "0  5653616771001  Entertainment News   \n",
       "1  5631919940001  Entertainment News   \n",
       "2  5767901401001          India News   \n",
       "3  5741125480001          India News   \n",
       "\n",
       "                                   short_description  \\\n",
       "0  The 34-year-old actor is not sure if he's goin...   \n",
       "1  The poster gives us a closer look at the actor...   \n",
       "2  A massive outrage has erupted over the horrifi...   \n",
       "3  According to forensic report, traces of alcoho...   \n",
       "\n",
       "                                          story_text  \\\n",
       "0  Hack: \\tThe 34-year-old actor is not sure if h...   \n",
       "1  The latest poster of 2.0 featuring Bollywood s...   \n",
       "2  A massive outrage has erupted over the horrifi...   \n",
       "3  The mystery surrounding Sridevi’s passing away...   \n",
       "\n",
       "                                               title  \\\n",
       "0  Adam Driver still 'undecided' on seeing 'Star ...   \n",
       "1  BEWARE: Akshay Kumar's look from 2.0 is out, a...   \n",
       "2  Kathua-Rape-Murder Case: Protesters demand CBI...   \n",
       "3  Sridevi’s death: Here’s what Amar Singh claims...   \n",
       "\n",
       "                                         description  \\\n",
       "0  Adam Driver still 'undecided' on seeing 'Star ...   \n",
       "1  BEWARE: Akshay Kumar's look from 2.0 is out, a...   \n",
       "2  Kathua-Rape-Murder Case: Protesters demand CBI...   \n",
       "3  Sridevi’s death: Here’s what Amar Singh claims...   \n",
       "\n",
       "                                 description_cleaned topic_list  \n",
       "0  adam driver still undecided on seeing star war...        [2]  \n",
       "1  beware akshay kumar s look from is out and it ...        [2]  \n",
       "2  kathua rape murder case protesters demand cbi ...     [1, 6]  \n",
       "3  sridevi s death here s what amar singh claims ...        [5]  "
      ]
     },
     "execution_count": 15,
     "metadata": {},
     "output_type": "execute_result"
    }
   ],
   "source": [
    "video_df.head(4)"
   ]
  },
  {
   "cell_type": "code",
   "execution_count": 16,
   "metadata": {},
   "outputs": [
    {
     "data": {
      "text/html": [
       "<div>\n",
       "<style scoped>\n",
       "    .dataframe tbody tr th:only-of-type {\n",
       "        vertical-align: middle;\n",
       "    }\n",
       "\n",
       "    .dataframe tbody tr th {\n",
       "        vertical-align: top;\n",
       "    }\n",
       "\n",
       "    .dataframe thead th {\n",
       "        text-align: right;\n",
       "    }\n",
       "</style>\n",
       "<table border=\"1\" class=\"dataframe\">\n",
       "  <thead>\n",
       "    <tr style=\"text-align: right;\">\n",
       "      <th></th>\n",
       "      <th>video_id</th>\n",
       "      <th>topic_list</th>\n",
       "      <th>category_name</th>\n",
       "    </tr>\n",
       "  </thead>\n",
       "  <tbody>\n",
       "    <tr>\n",
       "      <th>0</th>\n",
       "      <td>5653616771001</td>\n",
       "      <td>[2]</td>\n",
       "      <td>Entertainment News</td>\n",
       "    </tr>\n",
       "    <tr>\n",
       "      <th>1</th>\n",
       "      <td>5631919940001</td>\n",
       "      <td>[2]</td>\n",
       "      <td>Entertainment News</td>\n",
       "    </tr>\n",
       "    <tr>\n",
       "      <th>2</th>\n",
       "      <td>5767901401001</td>\n",
       "      <td>[1, 6]</td>\n",
       "      <td>India News</td>\n",
       "    </tr>\n",
       "    <tr>\n",
       "      <th>3</th>\n",
       "      <td>5741125480001</td>\n",
       "      <td>[5]</td>\n",
       "      <td>India News</td>\n",
       "    </tr>\n",
       "    <tr>\n",
       "      <th>4</th>\n",
       "      <td>5746648010001</td>\n",
       "      <td>[1, 2]</td>\n",
       "      <td>Entertainment News</td>\n",
       "    </tr>\n",
       "  </tbody>\n",
       "</table>\n",
       "</div>"
      ],
      "text/plain": [
       "        video_id topic_list       category_name\n",
       "0  5653616771001        [2]  Entertainment News\n",
       "1  5631919940001        [2]  Entertainment News\n",
       "2  5767901401001     [1, 6]          India News\n",
       "3  5741125480001        [5]          India News\n",
       "4  5746648010001     [1, 2]  Entertainment News"
      ]
     },
     "execution_count": 16,
     "metadata": {},
     "output_type": "execute_result"
    }
   ],
   "source": [
    "video_df[[\"video_id\",\"topic_list\",\"category_name\"]].head()"
   ]
  },
  {
   "cell_type": "markdown",
   "metadata": {},
   "source": [
    "# Preprocess the data to meet Pomegranate requirement"
   ]
  },
  {
   "cell_type": "code",
   "execution_count": 17,
   "metadata": {},
   "outputs": [],
   "source": [
    "def generate_parent_list(df):\n",
    "\n",
    "    df['video_id_parent_list'] = list(zip(df[\"topic_list\"], df[\"video_id\"]))\n",
    "    df['topic_parent_list'] = list(zip(df[\"category_name\"], df[\"topic_list\"]))\n",
    "\n",
    "    node_dict = dict()\n",
    "    for tup in df[\"video_id_parent_list\"]:\n",
    "        node_dict[tup[1]] = tup[0]\n",
    "        \n",
    "    for tup in df[\"topic_parent_list\"]:\n",
    "        for topic in tup[1]:\n",
    "            if topic in node_dict:\n",
    "                temp_list = node_dict[topic]\n",
    "                temp_list.append(tup[0])\n",
    "                node_dict[topic] = list(set(temp_list))\n",
    "            else:\n",
    "                node_dict[topic] = [tup[0]]\n",
    "    \n",
    "    return node_dict\n",
    "\n",
    "def generate_node_list(df):\n",
    "    video_ids = list(df[\"video_id\"])\n",
    "    flatten = lambda l: [item for sublist in l for item in sublist]\n",
    "    topics = list(set(flatten(df[\"topic_list\"])))\n",
    "    categories = list(set(df[\"category_name\"]))\n",
    "    node_list = video_ids+topics+categories\n",
    "    return node_list\n",
    "\n",
    "def generate_structure(parent_dict,node_list):\n",
    "    structure = list()\n",
    "    for node in node_list:\n",
    "        if node in parent_dict:\n",
    "            parents = parent_dict[node]\n",
    "            parent_indices = [node_list.index(val) for val in parents]\n",
    "            res = tuple(parent_indices)\n",
    "        else:\n",
    "            res = ()\n",
    "        structure.append(res)\n",
    "    return structure\n",
    "    "
   ]
  },
  {
   "cell_type": "code",
   "execution_count": 18,
   "metadata": {},
   "outputs": [],
   "source": [
    "parent_dict = generate_parent_list(video_df)\n",
    "node_list = generate_node_list(video_df)\n",
    "structure = generate_structure(parent_dict,node_list)\n",
    "node_list = [str(node) for node in node_list]"
   ]
  },
  {
   "cell_type": "markdown",
   "metadata": {},
   "source": [
    "# Train the PGM"
   ]
  },
  {
   "cell_type": "code",
   "execution_count": 19,
   "metadata": {},
   "outputs": [
    {
     "data": {
      "text/plain": [
       "27.54237413406372"
      ]
     },
     "execution_count": 19,
     "metadata": {},
     "output_type": "execute_result"
    }
   ],
   "source": [
    "t0=time.time()\n",
    "pgm_model = BayesianNetwork.from_structure(matrix, structure=structure,\n",
    "                                       state_names=node_list)\n",
    "time.time()-t0"
   ]
  },
  {
   "cell_type": "markdown",
   "metadata": {},
   "source": [
    "# Lets predict"
   ]
  },
  {
   "cell_type": "code",
   "execution_count": 20,
   "metadata": {},
   "outputs": [],
   "source": [
    "observations = { '5653616771001' : 1, '5767901401001' : 1}"
   ]
  },
  {
   "cell_type": "code",
   "execution_count": 21,
   "metadata": {},
   "outputs": [],
   "source": [
    "result = pgm_model.predict_proba(observations,max_iterations=2)\n"
   ]
  },
  {
   "cell_type": "code",
   "execution_count": 22,
   "metadata": {},
   "outputs": [],
   "source": [
    "res_dict = dict()\n",
    "for i in range(len(node_list)):\n",
    "    if node_list[i] not in observations:\n",
    "        val = result[i].values()[1]\n",
    "        if val >0.8:\n",
    "            res_dict[node_list[i]] = val"
   ]
  },
  {
   "cell_type": "markdown",
   "metadata": {},
   "source": [
    "# Videos to recommend"
   ]
  },
  {
   "cell_type": "code",
   "execution_count": 23,
   "metadata": {},
   "outputs": [
    {
     "data": {
      "text/plain": [
       "{'5698623820001': 0.8599999999999998,\n",
       " '5749634431001': 0.8099999999999999,\n",
       " '5745884900001': 0.8199999999999997,\n",
       " '5753285778001': 0.8599999999999998,\n",
       " '5740702609001': 0.8299999999999997,\n",
       " '5766149234001': 0.8099999999999999}"
      ]
     },
     "execution_count": 23,
     "metadata": {},
     "output_type": "execute_result"
    }
   ],
   "source": [
    "res_dict"
   ]
  }
 ],
 "metadata": {
  "kernelspec": {
   "display_name": "recsys_pgm_v3",
   "language": "python",
   "name": "recsys_pgm_v3"
  },
  "language_info": {
   "codemirror_mode": {
    "name": "ipython",
    "version": 3
   },
   "file_extension": ".py",
   "mimetype": "text/x-python",
   "name": "python",
   "nbconvert_exporter": "python",
   "pygments_lexer": "ipython3",
   "version": "3.6.5"
  }
 },
 "nbformat": 4,
 "nbformat_minor": 2
}
